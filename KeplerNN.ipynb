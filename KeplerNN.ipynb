{
 "cells": [
  {
   "metadata": {},
   "cell_type": "markdown",
   "source": [
    "# Preparing dataset\n",
    "\n",
    "Preparation of dataset the same way as [here](https://github.com/JanMatusiak/exoplanets/blob/5380110f75580a08a29b010a21c8d1a51bb5e2a4/kepler.ipynb). For more detailed information about Specific steps go there."
   ],
   "id": "c78d791447a848d8"
  },
  {
   "metadata": {
    "ExecuteTime": {
     "end_time": "2025-10-03T09:49:23.026923Z",
     "start_time": "2025-10-03T09:49:22.972351Z"
    }
   },
   "cell_type": "code",
   "source": [
    "import pandas as pd\n",
    "url = 'datasets/KOI.csv'\n",
    "kepler_df = pd.read_csv(url, comment = '#')\n",
    "kepler_df.head(5)"
   ],
   "id": "484de575dc22d1ab",
   "outputs": [
    {
     "data": {
      "text/plain": [
       "      kepid kepoi_name   kepler_name koi_disposition koi_pdisposition  \\\n",
       "0  10797460  K00752.01  Kepler-227 b       CONFIRMED        CANDIDATE   \n",
       "1  10797460  K00752.02  Kepler-227 c       CONFIRMED        CANDIDATE   \n",
       "2  10811496  K00753.01           NaN       CANDIDATE        CANDIDATE   \n",
       "3  10848459  K00754.01           NaN  FALSE POSITIVE   FALSE POSITIVE   \n",
       "4  10854555  K00755.01  Kepler-664 b       CONFIRMED        CANDIDATE   \n",
       "\n",
       "   koi_score  koi_fpflag_nt  koi_fpflag_ss  koi_fpflag_co  koi_fpflag_ec  ...  \\\n",
       "0      1.000              0              0              0              0  ...   \n",
       "1      0.969              0              0              0              0  ...   \n",
       "2      0.000              0              0              0              0  ...   \n",
       "3      0.000              0              1              0              0  ...   \n",
       "4      1.000              0              0              0              0  ...   \n",
       "\n",
       "   koi_steff_err2  koi_slogg  koi_slogg_err1  koi_slogg_err2  koi_srad  \\\n",
       "0           -81.0      4.467           0.064          -0.096     0.927   \n",
       "1           -81.0      4.467           0.064          -0.096     0.927   \n",
       "2          -176.0      4.544           0.044          -0.176     0.868   \n",
       "3          -174.0      4.564           0.053          -0.168     0.791   \n",
       "4          -211.0      4.438           0.070          -0.210     1.046   \n",
       "\n",
       "   koi_srad_err1  koi_srad_err2         ra        dec  koi_kepmag  \n",
       "0          0.105         -0.061  291.93423  48.141651      15.347  \n",
       "1          0.105         -0.061  291.93423  48.141651      15.347  \n",
       "2          0.233         -0.078  297.00482  48.134129      15.436  \n",
       "3          0.201         -0.067  285.53461  48.285210      15.597  \n",
       "4          0.334         -0.133  288.75488  48.226200      15.509  \n",
       "\n",
       "[5 rows x 49 columns]"
      ],
      "text/html": [
       "<div>\n",
       "<style scoped>\n",
       "    .dataframe tbody tr th:only-of-type {\n",
       "        vertical-align: middle;\n",
       "    }\n",
       "\n",
       "    .dataframe tbody tr th {\n",
       "        vertical-align: top;\n",
       "    }\n",
       "\n",
       "    .dataframe thead th {\n",
       "        text-align: right;\n",
       "    }\n",
       "</style>\n",
       "<table border=\"1\" class=\"dataframe\">\n",
       "  <thead>\n",
       "    <tr style=\"text-align: right;\">\n",
       "      <th></th>\n",
       "      <th>kepid</th>\n",
       "      <th>kepoi_name</th>\n",
       "      <th>kepler_name</th>\n",
       "      <th>koi_disposition</th>\n",
       "      <th>koi_pdisposition</th>\n",
       "      <th>koi_score</th>\n",
       "      <th>koi_fpflag_nt</th>\n",
       "      <th>koi_fpflag_ss</th>\n",
       "      <th>koi_fpflag_co</th>\n",
       "      <th>koi_fpflag_ec</th>\n",
       "      <th>...</th>\n",
       "      <th>koi_steff_err2</th>\n",
       "      <th>koi_slogg</th>\n",
       "      <th>koi_slogg_err1</th>\n",
       "      <th>koi_slogg_err2</th>\n",
       "      <th>koi_srad</th>\n",
       "      <th>koi_srad_err1</th>\n",
       "      <th>koi_srad_err2</th>\n",
       "      <th>ra</th>\n",
       "      <th>dec</th>\n",
       "      <th>koi_kepmag</th>\n",
       "    </tr>\n",
       "  </thead>\n",
       "  <tbody>\n",
       "    <tr>\n",
       "      <th>0</th>\n",
       "      <td>10797460</td>\n",
       "      <td>K00752.01</td>\n",
       "      <td>Kepler-227 b</td>\n",
       "      <td>CONFIRMED</td>\n",
       "      <td>CANDIDATE</td>\n",
       "      <td>1.000</td>\n",
       "      <td>0</td>\n",
       "      <td>0</td>\n",
       "      <td>0</td>\n",
       "      <td>0</td>\n",
       "      <td>...</td>\n",
       "      <td>-81.0</td>\n",
       "      <td>4.467</td>\n",
       "      <td>0.064</td>\n",
       "      <td>-0.096</td>\n",
       "      <td>0.927</td>\n",
       "      <td>0.105</td>\n",
       "      <td>-0.061</td>\n",
       "      <td>291.93423</td>\n",
       "      <td>48.141651</td>\n",
       "      <td>15.347</td>\n",
       "    </tr>\n",
       "    <tr>\n",
       "      <th>1</th>\n",
       "      <td>10797460</td>\n",
       "      <td>K00752.02</td>\n",
       "      <td>Kepler-227 c</td>\n",
       "      <td>CONFIRMED</td>\n",
       "      <td>CANDIDATE</td>\n",
       "      <td>0.969</td>\n",
       "      <td>0</td>\n",
       "      <td>0</td>\n",
       "      <td>0</td>\n",
       "      <td>0</td>\n",
       "      <td>...</td>\n",
       "      <td>-81.0</td>\n",
       "      <td>4.467</td>\n",
       "      <td>0.064</td>\n",
       "      <td>-0.096</td>\n",
       "      <td>0.927</td>\n",
       "      <td>0.105</td>\n",
       "      <td>-0.061</td>\n",
       "      <td>291.93423</td>\n",
       "      <td>48.141651</td>\n",
       "      <td>15.347</td>\n",
       "    </tr>\n",
       "    <tr>\n",
       "      <th>2</th>\n",
       "      <td>10811496</td>\n",
       "      <td>K00753.01</td>\n",
       "      <td>NaN</td>\n",
       "      <td>CANDIDATE</td>\n",
       "      <td>CANDIDATE</td>\n",
       "      <td>0.000</td>\n",
       "      <td>0</td>\n",
       "      <td>0</td>\n",
       "      <td>0</td>\n",
       "      <td>0</td>\n",
       "      <td>...</td>\n",
       "      <td>-176.0</td>\n",
       "      <td>4.544</td>\n",
       "      <td>0.044</td>\n",
       "      <td>-0.176</td>\n",
       "      <td>0.868</td>\n",
       "      <td>0.233</td>\n",
       "      <td>-0.078</td>\n",
       "      <td>297.00482</td>\n",
       "      <td>48.134129</td>\n",
       "      <td>15.436</td>\n",
       "    </tr>\n",
       "    <tr>\n",
       "      <th>3</th>\n",
       "      <td>10848459</td>\n",
       "      <td>K00754.01</td>\n",
       "      <td>NaN</td>\n",
       "      <td>FALSE POSITIVE</td>\n",
       "      <td>FALSE POSITIVE</td>\n",
       "      <td>0.000</td>\n",
       "      <td>0</td>\n",
       "      <td>1</td>\n",
       "      <td>0</td>\n",
       "      <td>0</td>\n",
       "      <td>...</td>\n",
       "      <td>-174.0</td>\n",
       "      <td>4.564</td>\n",
       "      <td>0.053</td>\n",
       "      <td>-0.168</td>\n",
       "      <td>0.791</td>\n",
       "      <td>0.201</td>\n",
       "      <td>-0.067</td>\n",
       "      <td>285.53461</td>\n",
       "      <td>48.285210</td>\n",
       "      <td>15.597</td>\n",
       "    </tr>\n",
       "    <tr>\n",
       "      <th>4</th>\n",
       "      <td>10854555</td>\n",
       "      <td>K00755.01</td>\n",
       "      <td>Kepler-664 b</td>\n",
       "      <td>CONFIRMED</td>\n",
       "      <td>CANDIDATE</td>\n",
       "      <td>1.000</td>\n",
       "      <td>0</td>\n",
       "      <td>0</td>\n",
       "      <td>0</td>\n",
       "      <td>0</td>\n",
       "      <td>...</td>\n",
       "      <td>-211.0</td>\n",
       "      <td>4.438</td>\n",
       "      <td>0.070</td>\n",
       "      <td>-0.210</td>\n",
       "      <td>1.046</td>\n",
       "      <td>0.334</td>\n",
       "      <td>-0.133</td>\n",
       "      <td>288.75488</td>\n",
       "      <td>48.226200</td>\n",
       "      <td>15.509</td>\n",
       "    </tr>\n",
       "  </tbody>\n",
       "</table>\n",
       "<p>5 rows × 49 columns</p>\n",
       "</div>"
      ]
     },
     "execution_count": 218,
     "metadata": {},
     "output_type": "execute_result"
    }
   ],
   "execution_count": 218
  },
  {
   "metadata": {
    "ExecuteTime": {
     "end_time": "2025-10-03T09:49:23.041310Z",
     "start_time": "2025-10-03T09:49:23.038045Z"
    }
   },
   "cell_type": "code",
   "source": "kepler_df.shape",
   "id": "1e2e3ce0fceed2ff",
   "outputs": [
    {
     "data": {
      "text/plain": [
       "(9564, 49)"
      ]
     },
     "execution_count": 219,
     "metadata": {},
     "output_type": "execute_result"
    }
   ],
   "execution_count": 219
  },
  {
   "metadata": {},
   "cell_type": "markdown",
   "source": "### Missing values",
   "id": "9066f305dedd814"
  },
  {
   "metadata": {
    "ExecuteTime": {
     "end_time": "2025-10-03T09:49:23.095978Z",
     "start_time": "2025-10-03T09:49:23.089939Z"
    }
   },
   "cell_type": "code",
   "source": "kepler_df.isnull().sum().sort_values(ascending=False)",
   "id": "27e57c85c7612aa1",
   "outputs": [
    {
     "data": {
      "text/plain": [
       "koi_teq_err1         9564\n",
       "koi_teq_err2         9564\n",
       "kepler_name          6817\n",
       "koi_score            1510\n",
       "koi_steff_err2        483\n",
       "koi_srad_err1         468\n",
       "koi_steff_err1        468\n",
       "koi_slogg_err2        468\n",
       "koi_slogg_err1        468\n",
       "koi_srad_err2         468\n",
       "koi_time0bk_err1      454\n",
       "koi_period_err1       454\n",
       "koi_period_err2       454\n",
       "koi_time0bk_err2      454\n",
       "koi_impact_err1       454\n",
       "koi_depth_err1        454\n",
       "koi_depth_err2        454\n",
       "koi_duration_err1     454\n",
       "koi_duration_err2     454\n",
       "koi_impact_err2       454\n",
       "koi_model_snr         363\n",
       "koi_srad              363\n",
       "koi_slogg             363\n",
       "koi_steff             363\n",
       "koi_depth             363\n",
       "koi_prad_err1         363\n",
       "koi_prad              363\n",
       "koi_impact            363\n",
       "koi_prad_err2         363\n",
       "koi_teq               363\n",
       "koi_tce_plnt_num      346\n",
       "koi_tce_delivname     346\n",
       "koi_insol_err2        321\n",
       "koi_insol             321\n",
       "koi_insol_err1        321\n",
       "koi_kepmag              1\n",
       "koi_fpflag_ec           0\n",
       "koi_time0bk             0\n",
       "koi_fpflag_nt           0\n",
       "koi_fpflag_ss           0\n",
       "koi_fpflag_co           0\n",
       "koi_disposition         0\n",
       "kepid                   0\n",
       "koi_period              0\n",
       "kepoi_name              0\n",
       "koi_pdisposition        0\n",
       "koi_duration            0\n",
       "ra                      0\n",
       "dec                     0\n",
       "dtype: int64"
      ]
     },
     "execution_count": 220,
     "metadata": {},
     "output_type": "execute_result"
    }
   ],
   "execution_count": 220
  },
  {
   "metadata": {},
   "cell_type": "markdown",
   "source": "### Colums that can be dropped",
   "id": "98cb55fc6ee2a249"
  },
  {
   "metadata": {
    "ExecuteTime": {
     "end_time": "2025-10-03T09:49:23.150805Z",
     "start_time": "2025-10-03T09:49:23.142330Z"
    }
   },
   "cell_type": "code",
   "source": [
    "kepler_clean_df = kepler_df.drop(kepler_df.filter(regex=\"(_err1|_err2)$\").columns, axis=1)\n",
    "subset = ['kepoi_name', 'kepler_name', 'koi_pdisposition', 'koi_score', 'koi_tce_delivname', 'koi_teq', 'koi_time0bk']\n",
    "kepler_clean_df = kepler_clean_df.drop(subset, axis=1)\n",
    "kepler_clean_df.isnull().sum().sort_values(ascending=False)"
   ],
   "id": "3691851f47c7b5e1",
   "outputs": [
    {
     "data": {
      "text/plain": [
       "koi_model_snr       363\n",
       "koi_prad            363\n",
       "koi_depth           363\n",
       "koi_impact          363\n",
       "koi_srad            363\n",
       "koi_slogg           363\n",
       "koi_steff           363\n",
       "koi_tce_plnt_num    346\n",
       "koi_insol           321\n",
       "koi_kepmag            1\n",
       "koi_disposition       0\n",
       "kepid                 0\n",
       "koi_fpflag_ss         0\n",
       "koi_fpflag_nt         0\n",
       "koi_fpflag_ec         0\n",
       "koi_period            0\n",
       "koi_duration          0\n",
       "koi_fpflag_co         0\n",
       "ra                    0\n",
       "dec                   0\n",
       "dtype: int64"
      ]
     },
     "execution_count": 221,
     "metadata": {},
     "output_type": "execute_result"
    }
   ],
   "execution_count": 221
  },
  {
   "metadata": {},
   "cell_type": "markdown",
   "source": "### Get rid of candidates to not confuse model",
   "id": "665edae2d1d011cd"
  },
  {
   "metadata": {
    "ExecuteTime": {
     "end_time": "2025-10-03T09:49:23.214640Z",
     "start_time": "2025-10-03T09:49:23.194897Z"
    }
   },
   "cell_type": "code",
   "source": [
    "candidates_df = kepler_clean_df[kepler_clean_df[\"koi_disposition\"].str.strip().str.upper() == \"CANDIDATE\"].copy()\n",
    "\n",
    "labeled_df = kepler_clean_df[kepler_clean_df[\"koi_disposition\"].str.strip().str.upper().isin([\"CONFIRMED\",\"FALSE POSITIVE\"])].copy()\n",
    "\n",
    "labeled_df[\"label\"] = (\n",
    "    labeled_df[\"koi_disposition\"]\n",
    "    .str.strip().str.upper()\n",
    "    .map({\"CONFIRMED\": 1, \"FALSE POSITIVE\": 0})\n",
    ")\n",
    "\n",
    "labeled_df.drop([\"koi_disposition\"], axis=1, inplace=True)\n",
    "labeled_df.head(5)\n"
   ],
   "id": "b1fbad42575ca4f8",
   "outputs": [
    {
     "data": {
      "text/plain": [
       "      kepid  koi_fpflag_nt  koi_fpflag_ss  koi_fpflag_co  koi_fpflag_ec  \\\n",
       "0  10797460              0              0              0              0   \n",
       "1  10797460              0              0              0              0   \n",
       "3  10848459              0              1              0              0   \n",
       "4  10854555              0              0              0              0   \n",
       "5  10872983              0              0              0              0   \n",
       "\n",
       "   koi_period  koi_impact  koi_duration  koi_depth  koi_prad  koi_insol  \\\n",
       "0    9.488036       0.146       2.95750      615.8      2.26      93.59   \n",
       "1   54.418383       0.586       4.50700      874.8      2.83       9.11   \n",
       "3    1.736952       1.276       2.40641     8079.2     33.46     891.96   \n",
       "4    2.525592       0.701       1.65450      603.3      2.75     926.16   \n",
       "5   11.094321       0.538       4.59450     1517.5      3.90     114.81   \n",
       "\n",
       "   koi_model_snr  koi_tce_plnt_num  koi_steff  koi_slogg  koi_srad         ra  \\\n",
       "0           35.8               1.0     5455.0      4.467     0.927  291.93423   \n",
       "1           25.8               2.0     5455.0      4.467     0.927  291.93423   \n",
       "3          505.6               1.0     5805.0      4.564     0.791  285.53461   \n",
       "4           40.9               1.0     6031.0      4.438     1.046  288.75488   \n",
       "5           66.5               1.0     6046.0      4.486     0.972  296.28613   \n",
       "\n",
       "         dec  koi_kepmag  label  \n",
       "0  48.141651      15.347      1  \n",
       "1  48.141651      15.347      1  \n",
       "3  48.285210      15.597      0  \n",
       "4  48.226200      15.509      1  \n",
       "5  48.224670      15.714      1  "
      ],
      "text/html": [
       "<div>\n",
       "<style scoped>\n",
       "    .dataframe tbody tr th:only-of-type {\n",
       "        vertical-align: middle;\n",
       "    }\n",
       "\n",
       "    .dataframe tbody tr th {\n",
       "        vertical-align: top;\n",
       "    }\n",
       "\n",
       "    .dataframe thead th {\n",
       "        text-align: right;\n",
       "    }\n",
       "</style>\n",
       "<table border=\"1\" class=\"dataframe\">\n",
       "  <thead>\n",
       "    <tr style=\"text-align: right;\">\n",
       "      <th></th>\n",
       "      <th>kepid</th>\n",
       "      <th>koi_fpflag_nt</th>\n",
       "      <th>koi_fpflag_ss</th>\n",
       "      <th>koi_fpflag_co</th>\n",
       "      <th>koi_fpflag_ec</th>\n",
       "      <th>koi_period</th>\n",
       "      <th>koi_impact</th>\n",
       "      <th>koi_duration</th>\n",
       "      <th>koi_depth</th>\n",
       "      <th>koi_prad</th>\n",
       "      <th>koi_insol</th>\n",
       "      <th>koi_model_snr</th>\n",
       "      <th>koi_tce_plnt_num</th>\n",
       "      <th>koi_steff</th>\n",
       "      <th>koi_slogg</th>\n",
       "      <th>koi_srad</th>\n",
       "      <th>ra</th>\n",
       "      <th>dec</th>\n",
       "      <th>koi_kepmag</th>\n",
       "      <th>label</th>\n",
       "    </tr>\n",
       "  </thead>\n",
       "  <tbody>\n",
       "    <tr>\n",
       "      <th>0</th>\n",
       "      <td>10797460</td>\n",
       "      <td>0</td>\n",
       "      <td>0</td>\n",
       "      <td>0</td>\n",
       "      <td>0</td>\n",
       "      <td>9.488036</td>\n",
       "      <td>0.146</td>\n",
       "      <td>2.95750</td>\n",
       "      <td>615.8</td>\n",
       "      <td>2.26</td>\n",
       "      <td>93.59</td>\n",
       "      <td>35.8</td>\n",
       "      <td>1.0</td>\n",
       "      <td>5455.0</td>\n",
       "      <td>4.467</td>\n",
       "      <td>0.927</td>\n",
       "      <td>291.93423</td>\n",
       "      <td>48.141651</td>\n",
       "      <td>15.347</td>\n",
       "      <td>1</td>\n",
       "    </tr>\n",
       "    <tr>\n",
       "      <th>1</th>\n",
       "      <td>10797460</td>\n",
       "      <td>0</td>\n",
       "      <td>0</td>\n",
       "      <td>0</td>\n",
       "      <td>0</td>\n",
       "      <td>54.418383</td>\n",
       "      <td>0.586</td>\n",
       "      <td>4.50700</td>\n",
       "      <td>874.8</td>\n",
       "      <td>2.83</td>\n",
       "      <td>9.11</td>\n",
       "      <td>25.8</td>\n",
       "      <td>2.0</td>\n",
       "      <td>5455.0</td>\n",
       "      <td>4.467</td>\n",
       "      <td>0.927</td>\n",
       "      <td>291.93423</td>\n",
       "      <td>48.141651</td>\n",
       "      <td>15.347</td>\n",
       "      <td>1</td>\n",
       "    </tr>\n",
       "    <tr>\n",
       "      <th>3</th>\n",
       "      <td>10848459</td>\n",
       "      <td>0</td>\n",
       "      <td>1</td>\n",
       "      <td>0</td>\n",
       "      <td>0</td>\n",
       "      <td>1.736952</td>\n",
       "      <td>1.276</td>\n",
       "      <td>2.40641</td>\n",
       "      <td>8079.2</td>\n",
       "      <td>33.46</td>\n",
       "      <td>891.96</td>\n",
       "      <td>505.6</td>\n",
       "      <td>1.0</td>\n",
       "      <td>5805.0</td>\n",
       "      <td>4.564</td>\n",
       "      <td>0.791</td>\n",
       "      <td>285.53461</td>\n",
       "      <td>48.285210</td>\n",
       "      <td>15.597</td>\n",
       "      <td>0</td>\n",
       "    </tr>\n",
       "    <tr>\n",
       "      <th>4</th>\n",
       "      <td>10854555</td>\n",
       "      <td>0</td>\n",
       "      <td>0</td>\n",
       "      <td>0</td>\n",
       "      <td>0</td>\n",
       "      <td>2.525592</td>\n",
       "      <td>0.701</td>\n",
       "      <td>1.65450</td>\n",
       "      <td>603.3</td>\n",
       "      <td>2.75</td>\n",
       "      <td>926.16</td>\n",
       "      <td>40.9</td>\n",
       "      <td>1.0</td>\n",
       "      <td>6031.0</td>\n",
       "      <td>4.438</td>\n",
       "      <td>1.046</td>\n",
       "      <td>288.75488</td>\n",
       "      <td>48.226200</td>\n",
       "      <td>15.509</td>\n",
       "      <td>1</td>\n",
       "    </tr>\n",
       "    <tr>\n",
       "      <th>5</th>\n",
       "      <td>10872983</td>\n",
       "      <td>0</td>\n",
       "      <td>0</td>\n",
       "      <td>0</td>\n",
       "      <td>0</td>\n",
       "      <td>11.094321</td>\n",
       "      <td>0.538</td>\n",
       "      <td>4.59450</td>\n",
       "      <td>1517.5</td>\n",
       "      <td>3.90</td>\n",
       "      <td>114.81</td>\n",
       "      <td>66.5</td>\n",
       "      <td>1.0</td>\n",
       "      <td>6046.0</td>\n",
       "      <td>4.486</td>\n",
       "      <td>0.972</td>\n",
       "      <td>296.28613</td>\n",
       "      <td>48.224670</td>\n",
       "      <td>15.714</td>\n",
       "      <td>1</td>\n",
       "    </tr>\n",
       "  </tbody>\n",
       "</table>\n",
       "</div>"
      ]
     },
     "execution_count": 222,
     "metadata": {},
     "output_type": "execute_result"
    }
   ],
   "execution_count": 222
  },
  {
   "metadata": {
    "ExecuteTime": {
     "end_time": "2025-10-03T08:31:41.999505Z",
     "start_time": "2025-10-03T08:31:41.997105Z"
    }
   },
   "cell_type": "markdown",
   "source": "### Missing values",
   "id": "2fbd8d299209c164"
  },
  {
   "metadata": {
    "ExecuteTime": {
     "end_time": "2025-10-03T09:49:23.256509Z",
     "start_time": "2025-10-03T09:49:23.251227Z"
    }
   },
   "cell_type": "code",
   "source": "labeled_df.isnull().sum().sort_values(ascending=False)",
   "id": "50859370eddf9f14",
   "outputs": [
    {
     "data": {
      "text/plain": [
       "koi_tce_plnt_num    286\n",
       "koi_model_snr       259\n",
       "koi_impact          259\n",
       "koi_prad            259\n",
       "koi_srad            259\n",
       "koi_slogg           259\n",
       "koi_steff           259\n",
       "koi_depth           259\n",
       "koi_insol           219\n",
       "koi_kepmag            1\n",
       "koi_fpflag_nt         0\n",
       "kepid                 0\n",
       "koi_fpflag_co         0\n",
       "koi_fpflag_ss         0\n",
       "koi_duration          0\n",
       "koi_fpflag_ec         0\n",
       "koi_period            0\n",
       "ra                    0\n",
       "dec                   0\n",
       "label                 0\n",
       "dtype: int64"
      ]
     },
     "execution_count": 223,
     "metadata": {},
     "output_type": "execute_result"
    }
   ],
   "execution_count": 223
  },
  {
   "metadata": {
    "ExecuteTime": {
     "end_time": "2025-10-03T09:49:23.311992Z",
     "start_time": "2025-10-03T09:49:23.305880Z"
    }
   },
   "cell_type": "code",
   "source": [
    "labeled_df.dropna(inplace=True, axis=0)\n",
    "labeled_df.isnull().sum()"
   ],
   "id": "b1316b72ad624515",
   "outputs": [
    {
     "data": {
      "text/plain": [
       "kepid               0\n",
       "koi_fpflag_nt       0\n",
       "koi_fpflag_ss       0\n",
       "koi_fpflag_co       0\n",
       "koi_fpflag_ec       0\n",
       "koi_period          0\n",
       "koi_impact          0\n",
       "koi_duration        0\n",
       "koi_depth           0\n",
       "koi_prad            0\n",
       "koi_insol           0\n",
       "koi_model_snr       0\n",
       "koi_tce_plnt_num    0\n",
       "koi_steff           0\n",
       "koi_slogg           0\n",
       "koi_srad            0\n",
       "ra                  0\n",
       "dec                 0\n",
       "koi_kepmag          0\n",
       "label               0\n",
       "dtype: int64"
      ]
     },
     "execution_count": 224,
     "metadata": {},
     "output_type": "execute_result"
    }
   ],
   "execution_count": 224
  },
  {
   "metadata": {},
   "cell_type": "markdown",
   "source": "Dataset is ready for analysis.",
   "id": "4b125485ebf8ed73"
  },
  {
   "metadata": {},
   "cell_type": "markdown",
   "source": "# Binary classification Model",
   "id": "339892409b4f4f25"
  },
  {
   "metadata": {},
   "cell_type": "markdown",
   "source": "### Division into features and labels",
   "id": "28e1f01ec925a0fb"
  },
  {
   "metadata": {
    "ExecuteTime": {
     "end_time": "2025-10-03T09:49:23.360851Z",
     "start_time": "2025-10-03T09:49:23.357242Z"
    }
   },
   "cell_type": "code",
   "source": [
    "import numpy as np\n",
    "\n",
    "X = labeled_df.drop(\"label\", axis = 1).values   # features\n",
    "y = labeled_df[\"label\"].values                  # labels"
   ],
   "id": "b95dd5c4f1c0d817",
   "outputs": [],
   "execution_count": 225
  },
  {
   "metadata": {},
   "cell_type": "markdown",
   "source": "### Standardization of features",
   "id": "e2eb859c3fc18e49"
  },
  {
   "metadata": {
    "ExecuteTime": {
     "end_time": "2025-10-03T09:49:23.414056Z",
     "start_time": "2025-10-03T09:49:23.409256Z"
    }
   },
   "cell_type": "code",
   "source": [
    "import sklearn\n",
    "from sklearn.preprocessing import StandardScaler\n",
    "\n",
    "scaler = StandardScaler()\n",
    "X_scaled = scaler.fit_transform(X)"
   ],
   "id": "322e8e4992ff9a8b",
   "outputs": [],
   "execution_count": 226
  },
  {
   "metadata": {
    "ExecuteTime": {
     "end_time": "2025-10-03T08:45:44.331320Z",
     "start_time": "2025-10-03T08:45:44.327831Z"
    }
   },
   "cell_type": "markdown",
   "source": "### Conversion to tensors",
   "id": "3ba8e8db913aaf67"
  },
  {
   "metadata": {
    "ExecuteTime": {
     "end_time": "2025-10-03T09:49:23.463632Z",
     "start_time": "2025-10-03T09:49:23.461090Z"
    }
   },
   "cell_type": "code",
   "source": "X_scaled.shape, y.shape\n",
   "id": "1ed11a24ff070174",
   "outputs": [
    {
     "data": {
      "text/plain": [
       "((7115, 19), (7115,))"
      ]
     },
     "execution_count": 227,
     "metadata": {},
     "output_type": "execute_result"
    }
   ],
   "execution_count": 227
  },
  {
   "metadata": {
    "ExecuteTime": {
     "end_time": "2025-10-03T09:49:23.516984Z",
     "start_time": "2025-10-03T09:49:23.513327Z"
    }
   },
   "cell_type": "code",
   "source": "type(X_scaled), X_scaled.dtype",
   "id": "255bfbe0efa4e78b",
   "outputs": [
    {
     "data": {
      "text/plain": [
       "(numpy.ndarray, dtype('float64'))"
      ]
     },
     "execution_count": 228,
     "metadata": {},
     "output_type": "execute_result"
    }
   ],
   "execution_count": 228
  },
  {
   "metadata": {
    "ExecuteTime": {
     "end_time": "2025-10-03T09:49:23.578593Z",
     "start_time": "2025-10-03T09:49:23.572846Z"
    }
   },
   "cell_type": "code",
   "source": [
    "# Turn data into tensors\n",
    "import torch\n",
    "from torch.utils.data import DataLoader, TensorDataset\n",
    "import torch.nn as nn\n",
    "import torch.optim as optim\n",
    "X_scaled = torch.from_numpy(X_scaled).type(torch.float32)\n",
    "y = torch.from_numpy(y).type(torch.float32)\n"
   ],
   "id": "f14de92b7734e80a",
   "outputs": [],
   "execution_count": 229
  },
  {
   "metadata": {
    "ExecuteTime": {
     "end_time": "2025-10-03T09:49:23.630158Z",
     "start_time": "2025-10-03T09:49:23.626786Z"
    }
   },
   "cell_type": "code",
   "source": "type(X_scaled), X_scaled.dtype, y.dtype",
   "id": "cd373b58f6bd2e6e",
   "outputs": [
    {
     "data": {
      "text/plain": [
       "(torch.Tensor, torch.float32, torch.float32)"
      ]
     },
     "execution_count": 230,
     "metadata": {},
     "output_type": "execute_result"
    }
   ],
   "execution_count": 230
  },
  {
   "metadata": {},
   "cell_type": "markdown",
   "source": "### train / test split",
   "id": "afb550de04ee7df4"
  },
  {
   "metadata": {
    "ExecuteTime": {
     "end_time": "2025-10-03T09:49:23.701135Z",
     "start_time": "2025-10-03T09:49:23.679276Z"
    }
   },
   "cell_type": "code",
   "source": [
    "from sklearn.model_selection import train_test_split\n",
    "\n",
    "X_train, X_test, y_train, y_test = train_test_split(X_scaled, y, test_size=0.2, random_state=42)\n",
    "\n",
    "len(X_train), len(X_test), len(y_train), len(y_test)"
   ],
   "id": "fe3fb8b9164450eb",
   "outputs": [
    {
     "data": {
      "text/plain": [
       "(5692, 1423, 5692, 1423)"
      ]
     },
     "execution_count": 231,
     "metadata": {},
     "output_type": "execute_result"
    }
   ],
   "execution_count": 231
  },
  {
   "metadata": {
    "ExecuteTime": {
     "end_time": "2025-10-03T09:49:23.739129Z",
     "start_time": "2025-10-03T09:49:23.733811Z"
    }
   },
   "cell_type": "code",
   "source": "type(X_train), X_train.dtype",
   "id": "f6f5700aab48d6ac",
   "outputs": [
    {
     "data": {
      "text/plain": [
       "(torch.Tensor, torch.float32)"
      ]
     },
     "execution_count": 232,
     "metadata": {},
     "output_type": "execute_result"
    }
   ],
   "execution_count": 232
  },
  {
   "metadata": {
    "ExecuteTime": {
     "end_time": "2025-10-03T09:49:23.791221Z",
     "start_time": "2025-10-03T09:49:23.788266Z"
    }
   },
   "cell_type": "code",
   "source": [
    "import torch\n",
    "from torch import nn\n",
    "\n",
    "device = \"cuda\" if torch.cuda.is_available() else \"cpu\"\n",
    "device"
   ],
   "id": "95f316ec62615a86",
   "outputs": [
    {
     "data": {
      "text/plain": [
       "'cpu'"
      ]
     },
     "execution_count": 233,
     "metadata": {},
     "output_type": "execute_result"
    }
   ],
   "execution_count": 233
  },
  {
   "metadata": {},
   "cell_type": "markdown",
   "source": "### Construct Model Class",
   "id": "3b037c7de0077405"
  },
  {
   "metadata": {
    "ExecuteTime": {
     "end_time": "2025-10-03T09:49:23.844042Z",
     "start_time": "2025-10-03T09:49:23.838551Z"
    }
   },
   "cell_type": "code",
   "source": [
    "class ExoplanetsV0(nn.Module):\n",
    "    def __init__(self, input_features, output_features, hidden_units = 8):\n",
    "        super().__init__()\n",
    "        self.layers = nn.Sequential(\n",
    "            nn.Linear(in_features = input_features, out_features = hidden_units),\n",
    "            nn.ReLU(),\n",
    "            nn.Linear(in_features = hidden_units, out_features = hidden_units),\n",
    "            nn.ReLU(),\n",
    "            nn.Linear(in_features = hidden_units, out_features = output_features),\n",
    "            nn.Sigmoid()\n",
    "        )\n",
    "\n",
    "    def forward(self, x):\n",
    "        return self.layers(x)\n",
    "\n",
    "# Create an instance of model\n",
    "model_0 = ExoplanetsV0(input_features = 19, output_features = 1, hidden_units = 8).to(device)\n",
    "model_0"
   ],
   "id": "4453f6340a30cf80",
   "outputs": [
    {
     "data": {
      "text/plain": [
       "ExoplanetsV0(\n",
       "  (layers): Sequential(\n",
       "    (0): Linear(in_features=19, out_features=8, bias=True)\n",
       "    (1): ReLU()\n",
       "    (2): Linear(in_features=8, out_features=8, bias=True)\n",
       "    (3): ReLU()\n",
       "    (4): Linear(in_features=8, out_features=1, bias=True)\n",
       "    (5): Sigmoid()\n",
       "  )\n",
       ")"
      ]
     },
     "execution_count": 234,
     "metadata": {},
     "output_type": "execute_result"
    }
   ],
   "execution_count": 234
  },
  {
   "metadata": {
    "ExecuteTime": {
     "end_time": "2025-10-03T09:49:23.898900Z",
     "start_time": "2025-10-03T09:49:23.895976Z"
    }
   },
   "cell_type": "code",
   "source": "X_train.shape, y_train.shape",
   "id": "67d2e37cdd2aae07",
   "outputs": [
    {
     "data": {
      "text/plain": [
       "(torch.Size([5692, 19]), torch.Size([5692]))"
      ]
     },
     "execution_count": 235,
     "metadata": {},
     "output_type": "execute_result"
    }
   ],
   "execution_count": 235
  },
  {
   "metadata": {},
   "cell_type": "markdown",
   "source": "### Loss Function and Optimizer",
   "id": "667c2e71f11c3595"
  },
  {
   "metadata": {
    "ExecuteTime": {
     "end_time": "2025-10-03T09:49:23.958463Z",
     "start_time": "2025-10-03T09:49:23.955813Z"
    }
   },
   "cell_type": "code",
   "source": [
    "# Create a loss function for binary classification\n",
    "loss_fn = nn.BCEWithLogitsLoss()\n",
    "\n",
    "# Create an optimizer for binary classification\n",
    "optimizer = torch.optim.SGD(params = model_0.parameters(), lr = 0.1)"
   ],
   "id": "6f6a6585e095da3e",
   "outputs": [],
   "execution_count": 236
  },
  {
   "metadata": {
    "ExecuteTime": {
     "end_time": "2025-10-03T09:49:24.005764Z",
     "start_time": "2025-10-03T09:49:24.003277Z"
    }
   },
   "cell_type": "code",
   "source": [
    "# Calculate accuracy\n",
    "def accuracy_fn(y_true, y_pred):\n",
    "    correct = torch.eq(y_true, y_pred).sum().item()\n",
    "    acc = (correct / len(y_pred)) * 100\n",
    "    return acc"
   ],
   "id": "66ac7f82575bb3a5",
   "outputs": [],
   "execution_count": 237
  },
  {
   "metadata": {
    "ExecuteTime": {
     "end_time": "2025-10-03T09:22:11.028624Z",
     "start_time": "2025-10-03T09:22:11.026740Z"
    }
   },
   "cell_type": "markdown",
   "source": [
    "# Train Model\n",
    "\n",
    "Model outputs are raw **Logits**\n",
    "\n",
    "We are converting logits into prediction probabilities by passing them to some kind of activation function (int this case `nn.Sigmoid()`) Then we can convert our model's prediction probabilities to **prediction labels** by taking the `argmaX_scaled()`"
   ],
   "id": "4600c09de3464ba8"
  },
  {
   "metadata": {
    "ExecuteTime": {
     "end_time": "2025-10-03T09:49:24.062070Z",
     "start_time": "2025-10-03T09:49:24.051837Z"
    }
   },
   "cell_type": "code",
   "source": [
    "model_0.eval()\n",
    "with torch.inference_mode():\n",
    "    y_logits = model_0(X_test.to(device))\n",
    "y_logits[:5]"
   ],
   "id": "d1d9577cea2b20f4",
   "outputs": [
    {
     "data": {
      "text/plain": [
       "tensor([[0.5656],\n",
       "        [0.5634],\n",
       "        [0.5516],\n",
       "        [0.5428],\n",
       "        [0.5601]])"
      ]
     },
     "execution_count": 238,
     "metadata": {},
     "output_type": "execute_result"
    }
   ],
   "execution_count": 238
  },
  {
   "metadata": {
    "ExecuteTime": {
     "end_time": "2025-10-03T09:49:24.113967Z",
     "start_time": "2025-10-03T09:49:24.109898Z"
    }
   },
   "cell_type": "code",
   "source": [
    "y_pred_probs = torch.sigmoid(y_logits)\n",
    "y_pred_probs"
   ],
   "id": "bf8cf271060e1a0c",
   "outputs": [
    {
     "data": {
      "text/plain": [
       "tensor([[0.6377],\n",
       "        [0.6372],\n",
       "        [0.6345],\n",
       "        ...,\n",
       "        [0.6397],\n",
       "        [0.6336],\n",
       "        [0.6372]])"
      ]
     },
     "execution_count": 239,
     "metadata": {},
     "output_type": "execute_result"
    }
   ],
   "execution_count": 239
  },
  {
   "metadata": {
    "ExecuteTime": {
     "end_time": "2025-10-03T09:49:24.166725Z",
     "start_time": "2025-10-03T09:49:24.163345Z"
    }
   },
   "cell_type": "code",
   "source": "torch.round(y_pred_probs)",
   "id": "43cd4212e1d13495",
   "outputs": [
    {
     "data": {
      "text/plain": [
       "tensor([[1.],\n",
       "        [1.],\n",
       "        [1.],\n",
       "        ...,\n",
       "        [1.],\n",
       "        [1.],\n",
       "        [1.]])"
      ]
     },
     "execution_count": 240,
     "metadata": {},
     "output_type": "execute_result"
    }
   ],
   "execution_count": 240
  },
  {
   "metadata": {
    "ExecuteTime": {
     "end_time": "2025-10-03T09:49:24.223893Z",
     "start_time": "2025-10-03T09:49:24.214155Z"
    }
   },
   "cell_type": "code",
   "source": [
    "# find predicted labels\n",
    "y_preds = torch.round(y_pred_probs)\n",
    "\n",
    "# in full\n",
    "y_pred_labels = torch.round(torch.sigmoid(model_0(X_test.to(device))))\n",
    "\n",
    "# check for equality\n",
    "print(torch.eq(y_preds.squeeze(), y_pred_labels.squeeze()))\n",
    "\n",
    "# get rid of extra dimension\n",
    "y_preds.squeeze()"
   ],
   "id": "bcc50890b414f149",
   "outputs": [
    {
     "name": "stdout",
     "output_type": "stream",
     "text": [
      "tensor([True, True, True,  ..., True, True, True])\n"
     ]
    },
    {
     "data": {
      "text/plain": [
       "tensor([1., 1., 1.,  ..., 1., 1., 1.])"
      ]
     },
     "execution_count": 241,
     "metadata": {},
     "output_type": "execute_result"
    }
   ],
   "execution_count": 241
  },
  {
   "metadata": {
    "ExecuteTime": {
     "end_time": "2025-10-03T09:49:24.269707Z",
     "start_time": "2025-10-03T09:49:24.265513Z"
    }
   },
   "cell_type": "code",
   "source": "y_test[:5]",
   "id": "b63b2eda8fc91bf5",
   "outputs": [
    {
     "data": {
      "text/plain": [
       "tensor([0., 0., 0., 0., 0.])"
      ]
     },
     "execution_count": 242,
     "metadata": {},
     "output_type": "execute_result"
    }
   ],
   "execution_count": 242
  },
  {
   "metadata": {},
   "cell_type": "markdown",
   "source": "### Building a training loop and testing loop",
   "id": "8a9a760e45cc8637"
  },
  {
   "metadata": {
    "ExecuteTime": {
     "end_time": "2025-10-03T09:49:24.487418Z",
     "start_time": "2025-10-03T09:49:24.319022Z"
    }
   },
   "cell_type": "code",
   "source": [
    "torch.manual_seed(42)\n",
    "torch.cuda.manual_seed(42)\n",
    "\n",
    "# Set the number of epochs\n",
    "epochs = 20\n",
    "\n",
    "# Put data to target device\n",
    "X_train, y_train = X_train.to(device), y_train.to(device)\n",
    "X_test, y_test = X_test.to(device), y_test.to(device)\n",
    "\n",
    "for epoch in range(epochs):\n",
    "    ### Training\n",
    "    model_0.train()\n",
    "\n",
    "    # 1. Forward pass\n",
    "    y_logits = model_0(X_train).squeeze()\n",
    "    y_pred = torch.round(torch.sigmoid(y_logits)) # turn logits into pred probs and into pred labels\n",
    "\n",
    "    # 2. Calculate the loss / cost\n",
    "    loss = loss_fn(y_logits, y_train)\n",
    "    acc = accuracy_fn(y_true = y_train, y_pred = y_pred)\n",
    "\n",
    "    # 3. Optimizer zero grad\n",
    "    optimizer.zero_grad()\n",
    "\n",
    "    # 4. Backpropagation algorithm\n",
    "    loss.backward()\n",
    "\n",
    "    # 5. Gradient descent algorithm\n",
    "    optimizer.step()\n",
    "\n",
    "    ### Testing\n",
    "    model_0.eval()\n",
    "    with torch.inference_mode():\n",
    "        # 1. Forward pass\n",
    "        test_logits = model_0(X_test).squeeze()\n",
    "        test_pred = torch.round(torch.sigmoid(test_logits))\n",
    "\n",
    "        # 2. Calculate test loss/acc\n",
    "        test_loss = loss_fn(test_logits, y_test)\n",
    "        test_acc = accuracy_fn(y_true=y_test, y_pred=test_pred)\n",
    "\n",
    "    # Print out what's happenin'\n",
    "    if epoch % 4 == 0:\n",
    "        print(f\"Epoch {epoch} | loss: {loss:.5f}, accuracy: {acc:.2f}%, Test loss: {test_loss:.5f}, Test accuracy: {test_acc:.2f}%\")"
   ],
   "id": "1d24317a9a7c44f6",
   "outputs": [
    {
     "name": "stdout",
     "output_type": "stream",
     "text": [
      "Epoch 0 | loss: 0.79813, accuracy: 38.16%, Test loss: 0.79017, Test accuracy: 39.49%\n",
      "Epoch 4 | loss: 0.79601, accuracy: 38.16%, Test loss: 0.78817, Test accuracy: 39.49%\n",
      "Epoch 8 | loss: 0.79394, accuracy: 38.16%, Test loss: 0.78620, Test accuracy: 39.49%\n",
      "Epoch 12 | loss: 0.79190, accuracy: 38.16%, Test loss: 0.78428, Test accuracy: 39.49%\n",
      "Epoch 16 | loss: 0.78991, accuracy: 38.16%, Test loss: 0.78240, Test accuracy: 39.49%\n"
     ]
    }
   ],
   "execution_count": 243
  }
 ],
 "metadata": {
  "kernelspec": {
   "display_name": "Python 3",
   "language": "python",
   "name": "python3"
  },
  "language_info": {
   "codemirror_mode": {
    "name": "ipython",
    "version": 2
   },
   "file_extension": ".py",
   "mimetype": "text/x-python",
   "name": "python",
   "nbconvert_exporter": "python",
   "pygments_lexer": "ipython2",
   "version": "2.7.6"
  }
 },
 "nbformat": 4,
 "nbformat_minor": 5
}
